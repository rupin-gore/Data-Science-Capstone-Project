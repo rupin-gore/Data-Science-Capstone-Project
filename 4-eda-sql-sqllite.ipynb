{
 "cells": [
  {
   "cell_type": "markdown",
   "id": "9fc90c06-6f83-4a86-a52d-df565b59b799",
   "metadata": {},
   "source": [
    "<p style=\"text-align:center\">\n",
    "    <a href=\"https://skills.network\" target=\"_blank\">\n",
    "    <img src=\"https://cf-courses-data.s3.us.cloud-object-storage.appdomain.cloud/assets/logos/SN_web_lightmode.png\" width=\"200\" alt=\"Skills Network Logo\">\n",
    "    </a>\n",
    "</p>\n",
    "\n",
    "<h1 align=center><font size = 5>Assignment: SQL Notebook for Peer Assignment</font></h1>\n",
    "\n",
    "Estimated time needed: **60** minutes.\n",
    "\n",
    "## Introduction\n",
    "Using this Python notebook you will:\n",
    "\n",
    "1.  Understand the Spacex DataSet\n",
    "2.  Load the dataset  into the corresponding table in a Db2 database\n",
    "3.  Execute SQL queries to answer assignment questions \n"
   ]
  },
  {
   "cell_type": "markdown",
   "id": "57e72843-4cba-416d-9f2d-6ee1e0b60658",
   "metadata": {},
   "source": [
    "## Overview of the DataSet\n",
    "\n",
    "SpaceX has gained worldwide attention for a series of historic milestones. \n",
    "\n",
    "It is the only private company ever to return a spacecraft from low-earth orbit, which it first accomplished in December 2010.\n",
    "SpaceX advertises Falcon 9 rocket launches on its website with a cost of 62 million dollars wheras other providers cost upward of 165 million dollars each, much of the savings is because Space X can reuse the first stage. \n",
    "\n",
    "\n",
    "Therefore if we can determine if the first stage will land, we can determine the cost of a launch. \n",
    "\n",
    "This information can be used if an alternate company wants to bid against SpaceX for a rocket launch.\n",
    "\n",
    "This dataset includes a record for each payload carried during a SpaceX mission into outer space.\n"
   ]
  },
  {
   "cell_type": "markdown",
   "id": "11b99f0e-0aba-4a92-a9d6-3e4835c4209f",
   "metadata": {},
   "source": [
    "### Download the datasets\n",
    "\n",
    "This assignment requires you to load the spacex dataset.\n",
    "\n",
    "In many cases the dataset to be analyzed is available as a .CSV (comma separated values) file, perhaps on the internet. Click on the link below to download and save the dataset (.CSV file):\n",
    "\n",
    " <a href=\"https://cf-courses-data.s3.us.cloud-object-storage.appdomain.cloud/IBM-DS0321EN-SkillsNetwork/labs/module_2/data/Spacex.csv\" target=\"_blank\">Spacex DataSet</a>\n",
    "\n"
   ]
  },
  {
   "cell_type": "code",
   "execution_count": 1,
   "metadata": {},
   "outputs": [],
   "source": [
    "%load_ext sql"
   ]
  },
  {
   "cell_type": "code",
   "execution_count": 2,
   "id": "9c6465db-38ac-44f8-baa3-201feecff9d6",
   "metadata": {},
   "outputs": [],
   "source": [
    "import csv\n",
    "import sqlite3\n",
    "from prettytable import from_db_cursor  # to display results prettily\n",
    "\n",
    "# Connect to SQLite database\n",
    "con = sqlite3.connect(\"spacex_SQLData.db\")\n",
    "cur = con.cursor()"
   ]
  },
  {
   "cell_type": "code",
   "execution_count": 3,
   "metadata": {},
   "outputs": [
    {
     "name": "stdout",
     "output_type": "stream",
     "text": [
      "Tables in database: []\n"
     ]
    }
   ],
   "source": [
    "cur.execute(\"SELECT name FROM sqlite_master WHERE type='table';\")\n",
    "tables = cur.fetchall()\n",
    "print(\"Tables in database:\", tables)"
   ]
  },
  {
   "cell_type": "code",
   "execution_count": 9,
   "id": "417b0b55-6ecb-4df1-8dbd-3f33ce5b603c",
   "metadata": {},
   "outputs": [],
   "source": [
    "%sql sqlite:///spacex_SQLData.db"
   ]
  },
  {
   "cell_type": "code",
   "execution_count": 10,
   "id": "6a545df6-aad1-4a84-8050-09f8a0d19b38",
   "metadata": {},
   "outputs": [
    {
     "data": {
      "text/plain": [
       "101"
      ]
     },
     "execution_count": 10,
     "metadata": {},
     "output_type": "execute_result"
    }
   ],
   "source": [
    "import pandas as pd\n",
    "df = pd.read_csv(\"Spacex.csv\")\n",
    "df.to_sql(\"SPACEXTBL\", con, if_exists='replace', index=False,method=\"multi\")"
   ]
  },
  {
   "cell_type": "markdown",
   "id": "02bee8d8-c9c7-41cc-bcfc-d3b051c9cc27",
   "metadata": {},
   "source": [
    "**Note:This below code is added to remove blank rows from table**\n"
   ]
  },
  {
   "cell_type": "code",
   "execution_count": 12,
   "id": "e93dbf4e-52db-4a87-b00c-83e6e475e44b",
   "metadata": {},
   "outputs": [
    {
     "name": "stdout",
     "output_type": "stream",
     "text": [
      "   sqlite:///my_data1.db\n",
      " * sqlite:///spacex_SQLData.db\n",
      "Done.\n"
     ]
    },
    {
     "data": {
      "text/plain": [
       "[]"
      ]
     },
     "execution_count": 12,
     "metadata": {},
     "output_type": "execute_result"
    }
   ],
   "source": [
    "#DROP THE TABLE IF EXISTS\n",
    "%sql DROP TABLE IF EXISTS SPACEXTABLE"
   ]
  },
  {
   "cell_type": "code",
   "execution_count": 13,
   "id": "c09fc7a3-6ac8-4b96-a4ef-c22bdb5bd0bc",
   "metadata": {},
   "outputs": [
    {
     "name": "stdout",
     "output_type": "stream",
     "text": [
      "   sqlite:///my_data1.db\n",
      " * sqlite:///spacex_SQLData.db\n",
      "Done.\n"
     ]
    },
    {
     "data": {
      "text/plain": [
       "[]"
      ]
     },
     "execution_count": 13,
     "metadata": {},
     "output_type": "execute_result"
    }
   ],
   "source": [
    "%sql create table SPACEXTABLE as select * from SPACEXTBL where Date is not null"
   ]
  },
  {
   "cell_type": "markdown",
   "id": "138f1948-b046-45a9-896e-9d6f4131e54f",
   "metadata": {},
   "source": [
    "## Tasks\n",
    "\n",
    "Now write and execute SQL queries to solve the assignment tasks.\n",
    "\n",
    "**Note: If the column names are in mixed case enclose it in double quotes\n",
    "   For Example \"Landing_Outcome\"**\n",
    "\n",
    "### Task 1\n",
    "\n",
    "\n",
    "\n",
    "\n",
    "##### Display the names of the unique launch sites  in the space mission\n"
   ]
  },
  {
   "cell_type": "code",
   "execution_count": 18,
   "id": "3f4a6235-8194-46b8-bbfd-beb14f517386",
   "metadata": {},
   "outputs": [
    {
     "name": "stdout",
     "output_type": "stream",
     "text": [
      "   sqlite:///my_data1.db\n",
      " * sqlite:///spacex_SQLData.db\n",
      "(sqlite3.OperationalError) no such column: LaunchSite\n",
      "[SQL: SELECT DISTINCT LaunchSite FROM SPACEXTBL]\n",
      "(Background on this error at: https://sqlalche.me/e/20/e3q8)\n"
     ]
    }
   ],
   "source": [
    "%sql SELECT DISTINCT \"LaunchSite\" FROM SPACEXTBL"
   ]
  },
  {
   "cell_type": "markdown",
   "id": "3d889448-4fd4-4cfc-aa12-fecd4b3c7fbd",
   "metadata": {},
   "source": [
    "\n",
    "### Task 2\n",
    "\n",
    "\n",
    "#####  Display 5 records where launch sites begin with the string 'CCA' \n"
   ]
  },
  {
   "cell_type": "code",
   "execution_count": 19,
   "id": "b5fdeb89-9411-4f8a-bfef-fb6ff2c9971d",
   "metadata": {},
   "outputs": [
    {
     "name": "stdout",
     "output_type": "stream",
     "text": [
      "   sqlite:///my_data1.db\n",
      " * sqlite:///spacex_SQLData.db\n",
      "(sqlite3.OperationalError) no such table: spacex_data\n",
      "[SQL: SELECT * FROM spacex_data WHERE LaunchSite LIKE 'CCA%' LIMIT 5;]\n",
      "(Background on this error at: https://sqlalche.me/e/20/e3q8)\n"
     ]
    }
   ],
   "source": [
    "%sql SELECT * FROM spacex_data WHERE LaunchSite LIKE 'CCA%' LIMIT 5;"
   ]
  },
  {
   "cell_type": "markdown",
   "id": "4532ad2b-f98b-4f3c-8525-632f47a42e77",
   "metadata": {},
   "source": [
    "### Task 3\n",
    "\n",
    "\n",
    "\n",
    "\n",
    "##### Display the total payload mass carried by boosters launched by NASA (CRS)\n"
   ]
  },
  {
   "cell_type": "code",
   "execution_count": 22,
   "id": "eada13ca-eafb-4549-a453-bab04cd895d9",
   "metadata": {},
   "outputs": [
    {
     "name": "stdout",
     "output_type": "stream",
     "text": [
      "   sqlite:///my_data1.db\n",
      " * sqlite:///spacex_SQLData.db\n",
      "(sqlite3.OperationalError) near \"mass\": syntax error\n",
      "[SQL: SELECT SUM(Payload mass) FROM spacex_data WHERE Customer LIKE '%NASA (CRS)%' ;]\n",
      "(Background on this error at: https://sqlalche.me/e/20/e3q8)\n"
     ]
    }
   ],
   "source": [
    "%sql SELECT SUM(\"Payload mass\") FROM spacex_data WHERE Customer LIKE '%NASA (CRS)%';"
   ]
  },
  {
   "cell_type": "markdown",
   "id": "aff22ac9-8d5a-433d-a1fc-af538d825691",
   "metadata": {},
   "source": [
    "### Task 4\n",
    "\n",
    "\n",
    "\n",
    "\n",
    "##### Display average payload mass carried by booster version F9 v1.1\n"
   ]
  },
  {
   "cell_type": "code",
   "execution_count": 23,
   "id": "12a33e2d-16ba-4f0e-967f-0bf04f988137",
   "metadata": {},
   "outputs": [
    {
     "name": "stdout",
     "output_type": "stream",
     "text": [
      "   sqlite:///my_data1.db\n",
      " * sqlite:///spacex_SQLData.db\n",
      "(sqlite3.OperationalError) near \"mass\": syntax error\n",
      "[SQL: SELECT AVG(Payload mass) FROM spacex_data WHERE Version Booster = 'F9 v1.1' ;]\n",
      "(Background on this error at: https://sqlalche.me/e/20/e3q8)\n"
     ]
    }
   ],
   "source": [
    "%sql SELECT AVG(\"Payload mass\") FROM spacex_data WHERE \"Version Booster\" = 'F9 v1.1';"
   ]
  },
  {
   "cell_type": "markdown",
   "id": "0e513dbd-a857-4047-8c72-36cbd8df583a",
   "metadata": {},
   "source": [
    "### Task 5\n",
    "\n",
    "##### List the date when the first succesful landing outcome in ground pad was acheived.\n",
    "\n",
    "\n",
    "_Hint:Use min function_ \n"
   ]
  },
  {
   "cell_type": "code",
   "execution_count": 24,
   "id": "1229aba2-a23a-4bed-ae84-d7dadb5cab08",
   "metadata": {},
   "outputs": [
    {
     "name": "stdout",
     "output_type": "stream",
     "text": [
      "   sqlite:///my_data1.db\n",
      " * sqlite:///spacex_SQLData.db\n",
      "(sqlite3.OperationalError) near \"landing\": syntax error\n",
      "[SQL: SELECT MIN(Date) FROM spacex_data WHERE Booster landing LIKE '%ground pad%' AND Launch outcome = 'Success' ;]\n",
      "(Background on this error at: https://sqlalche.me/e/20/e3q8)\n"
     ]
    }
   ],
   "source": [
    "%sql SELECT MIN(Date) FROM spacex_data WHERE \"Booster landing\" LIKE '%ground pad%' AND \"Launch outcome\" = 'Success';"
   ]
  },
  {
   "cell_type": "markdown",
   "id": "af6eb132-8a99-44dc-b6ca-4659a8340fad",
   "metadata": {},
   "source": [
    "### Task 6\n",
    "\n",
    "##### List the names of the boosters which have success in drone ship and have payload mass greater than 4000 but less than 6000\n"
   ]
  },
  {
   "cell_type": "code",
   "execution_count": 25,
   "id": "9664cac3-e25e-4cd3-89b5-d2589fab9b0b",
   "metadata": {},
   "outputs": [
    {
     "name": "stdout",
     "output_type": "stream",
     "text": [
      "   sqlite:///my_data1.db\n",
      " * sqlite:///spacex_SQLData.db\n",
      "(sqlite3.OperationalError) near \"landing\": syntax error\n",
      "[SQL: SELECT DISTINCT Serial FROM spacex_data WHERE Booster landing LIKE '%drone ship%' AND Launch outcome = 'Success' AND Payload mass BETWEEN 4000 AND 6000;]\n",
      "(Background on this error at: https://sqlalche.me/e/20/e3q8)\n"
     ]
    }
   ],
   "source": [
    "%sql SELECT DISTINCT Serial FROM spacex_data WHERE \"Booster landing\" LIKE '%drone ship%' AND \"Launch outcome\" = 'Success' AND \"Payload mass\" BETWEEN 4000 AND 6000;"
   ]
  },
  {
   "cell_type": "markdown",
   "id": "27b94807-a798-43f8-b20e-bf4b2052406e",
   "metadata": {},
   "source": [
    "### Task 7\n",
    "\n",
    "\n",
    "\n",
    "\n",
    "##### List the total number of successful and failure mission outcomes\n"
   ]
  },
  {
   "cell_type": "code",
   "execution_count": 27,
   "id": "1df1d358-7d7b-4d73-a1aa-68700ceacc76",
   "metadata": {},
   "outputs": [
    {
     "name": "stdout",
     "output_type": "stream",
     "text": [
      "   sqlite:///my_data1.db\n",
      " * sqlite:///spacex_SQLData.db\n",
      "(sqlite3.OperationalError) near \"outcome\": syntax error\n",
      "[SQL: SELECT Launch outcome , COUNT(*) AS Total FROM spacex_data GROUP BY Launch outcome ;]\n",
      "(Background on this error at: https://sqlalche.me/e/20/e3q8)\n"
     ]
    }
   ],
   "source": [
    "%sql SELECT \"Launch outcome\", COUNT(*) AS Total FROM spacex_data GROUP BY \"Launch outcome\";"
   ]
  },
  {
   "cell_type": "markdown",
   "id": "c9a92ec1-78d8-4bba-bda7-1c08767e5c76",
   "metadata": {},
   "source": [
    "### Task 8\n",
    "\n",
    "\n",
    "\n",
    "##### List all the booster_versions that have carried the maximum payload mass. Use a subquery.\n"
   ]
  },
  {
   "cell_type": "code",
   "execution_count": null,
   "id": "c424c83b-271d-4235-839e-e7de56975aaa",
   "metadata": {},
   "outputs": [
    {
     "name": "stdout",
     "output_type": "stream",
     "text": [
      "   sqlite:///my_data1.db\n",
      " * sqlite:///spacex_SQLData.db\n",
      "(sqlite3.OperationalError) no such table: spacex_data\n",
      "[SQL: SELECT BoosterVersion , PayloadMass FROM spacex_data WHERE PayloadMass = (SELECT MAX(PayloadMass) FROM spacex_data);]\n",
      "(Background on this error at: https://sqlalche.me/e/20/e3q8)\n"
     ]
    }
   ],
   "source": [
    "%sql SELECT \"BoosterVersion\", \"PayloadMass\" FROM spacex_data WHERE \"PayloadMass\" = (SELECT MAX(\"PayloadMass\") FROM spacex_data);"
   ]
  },
  {
   "cell_type": "markdown",
   "id": "90d9ee15-e931-4bed-afbe-068e82548d56",
   "metadata": {},
   "source": [
    "### Task 9\n",
    "\n",
    "\n",
    "##### List the records which will display the month names, failure landing_outcomes in drone ship ,booster versions, launch_site for the months in year 2015.\n",
    "\n",
    "**Note: SQLLite does not support monthnames. So you need to use  substr(Date, 6,2) as month to get the months and substr(Date,0,5)='2015' for year.**\n"
   ]
  },
  {
   "cell_type": "code",
   "execution_count": 29,
   "id": "fca4fdbf-8c88-4811-8d35-42888e6526ed",
   "metadata": {},
   "outputs": [
    {
     "name": "stdout",
     "output_type": "stream",
     "text": [
      "   sqlite:///my_data1.db\n",
      " * sqlite:///spacex_SQLData.db\n",
      "(sqlite3.OperationalError) no such table: spacex_data\n",
      "[SQL: SELECT SUBSTR(Date, 6, 2) AS Month,Landing_Outcome, BoosterVersion , LaunchSite FROM spacex_data WHERE Landing_Outcome LIKE '%Failure%' AND Landing_Outcome LIKE '%drone ship%' AND SUBSTR(Date, 0, 5) = '2015' ;]\n",
      "(Background on this error at: https://sqlalche.me/e/20/e3q8)\n"
     ]
    }
   ],
   "source": [
    "%sql SELECT  SUBSTR(Date, 6, 2) AS Month,\"Landing_Outcome\", \"BoosterVersion\", \"LaunchSite\" FROM spacex_data WHERE \"Landing_Outcome\" LIKE '%Failure%' AND \"Landing_Outcome\" LIKE '%drone ship%' AND SUBSTR(Date, 0, 5) = '2015';\n"
   ]
  },
  {
   "cell_type": "markdown",
   "id": "873c551f-636f-44b6-8d89-f1a5395921eb",
   "metadata": {},
   "source": [
    "### Task 10\n",
    "\n",
    "\n",
    "\n",
    "\n",
    "##### Rank the count of landing outcomes (such as Failure (drone ship) or Success (ground pad)) between the date 2010-06-04 and 2017-03-20, in descending order.\n"
   ]
  },
  {
   "cell_type": "code",
   "execution_count": 30,
   "id": "e40812d1-b43b-4aff-a295-3cc4571c3c2e",
   "metadata": {},
   "outputs": [
    {
     "name": "stdout",
     "output_type": "stream",
     "text": [
      "   sqlite:///my_data1.db\n",
      " * sqlite:///spacex_SQLData.db\n",
      "(sqlite3.OperationalError) no such table: spacex_data\n",
      "[SQL: SELECT Landing_Outcome , COUNT(*) AS Outcome_Count FROM spacex_data WHERE Date BETWEEN '2010-06-04' AND '2017-03-20' GROUP BY Landing_Outcome ORDER BY Outcome_Count DESC;]\n",
      "(Background on this error at: https://sqlalche.me/e/20/e3q8)\n"
     ]
    }
   ],
   "source": [
    "%sql SELECT \"Landing_Outcome\", COUNT(*) AS Outcome_Count FROM spacex_data WHERE Date BETWEEN '2010-06-04' AND '2017-03-20' GROUP BY \"Landing_Outcome\" ORDER BY Outcome_Count DESC;"
   ]
  }
 ],
 "metadata": {
  "kernelspec": {
   "display_name": "base",
   "language": "python",
   "name": "python3"
  },
  "language_info": {
   "codemirror_mode": {
    "name": "ipython",
    "version": 3
   },
   "file_extension": ".py",
   "mimetype": "text/x-python",
   "name": "python",
   "nbconvert_exporter": "python",
   "pygments_lexer": "ipython3",
   "version": "3.11.5"
  },
  "prev_pub_hash": "18774c8928e6c688c0fbec1a14775f2c11e247049ea3a108a4750dd06f4672bb"
 },
 "nbformat": 4,
 "nbformat_minor": 4
}
